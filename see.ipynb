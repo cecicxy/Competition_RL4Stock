{
 "cells": [
  {
   "cell_type": "code",
   "execution_count": 1,
   "metadata": {},
   "outputs": [],
   "source": [
    "import pandas as pd\n",
    "import numpy as np\n"
   ]
  },
  {
   "cell_type": "code",
   "execution_count": 2,
   "metadata": {},
   "outputs": [
    {
     "name": "stdout",
     "output_type": "stream",
     "text": [
      "   serverTime    bidPx1    bidPx2    bidPx3    bidPx4    bidPx5  bidVlm1  \\\n",
      "0  93001659.0  4589.650  4586.223  4586.200  4583.900  4581.876      1.0   \n",
      "1  93004818.0  4606.049  4605.911  4599.816  4599.793  4599.655     15.0   \n",
      "2  93009335.0  4613.639  4613.616  4613.547  4613.455  4610.327      2.0   \n",
      "3  93014587.0  4613.639  4613.616  4613.547  4613.455  4610.327      2.0   \n",
      "4  93019851.0  4606.923  4599.747  4599.678  4599.655  4595.400      2.0   \n",
      "\n",
      "   bidVlm2  bidVlm3  bidVlm4  ...  askVlm1  askV1m2  askVlm3  askV1m4  \\\n",
      "0      1.0      4.0      3.0  ...      5.0      1.0      2.0      2.0   \n",
      "1      1.0      5.0     12.0  ...      5.0      1.0     10.0      8.0   \n",
      "2      4.0      5.0      8.0  ...      1.0      1.0      1.0     26.0   \n",
      "3      4.0      5.0      8.0  ...      1.0      1.0      1.0      1.0   \n",
      "4      2.0      6.0      9.0  ...     10.0      1.0      1.0      1.0   \n",
      "\n",
      "   askV1m5  code   signal0   signal1   signal2   eventTime  \n",
      "0      5.0   2.0  0.936179  0.000000  0.000000  93001801.0  \n",
      "1      1.0   2.0  0.060405 -1.784940 -3.466259  93004880.0  \n",
      "2      1.0   2.0 -4.298250 -1.480759 -0.756748  93009990.0  \n",
      "3     26.0   2.0 -2.768848 -1.614230 -0.794967  93015000.0  \n",
      "4      1.0   2.0 -4.551637 -1.715699 -1.139920  93020020.0  \n",
      "\n",
      "[5 rows x 26 columns]\n"
     ]
    }
   ],
   "source": [
    "df_0220 = pd.read_parquet('env/stock_raw/data/20200220/train_data.parquet')\n",
    "\n",
    "# 查看数据框的前几行\n",
    "print(df_0220.head())"
   ]
  },
  {
   "cell_type": "code",
   "execution_count": 3,
   "metadata": {},
   "outputs": [],
   "source": [
    "from env.stock_raw.backtest.utils import time_format_conversion"
   ]
  },
  {
   "cell_type": "code",
   "execution_count": null,
   "metadata": {},
   "outputs": [],
   "source": []
  },
  {
   "cell_type": "code",
   "execution_count": 4,
   "metadata": {},
   "outputs": [
    {
     "data": {
      "text/plain": [
       "34201.0"
      ]
     },
     "execution_count": 4,
     "metadata": {},
     "output_type": "execute_result"
    }
   ],
   "source": [
    "time_format_conversion(93001801.0)"
   ]
  },
  {
   "cell_type": "code",
   "execution_count": 8,
   "metadata": {},
   "outputs": [
    {
     "data": {
      "text/plain": [
       "3923.8"
      ]
     },
     "execution_count": 8,
     "metadata": {},
     "output_type": "execute_result"
    }
   ],
   "source": [
    "(53820-time_format_conversion(93001801.0))/5"
   ]
  },
  {
   "cell_type": "code",
   "execution_count": 5,
   "metadata": {},
   "outputs": [
    {
     "data": {
      "text/plain": [
       "Index(['serverTime', 'bidPx1', 'bidPx2', 'bidPx3', 'bidPx4', 'bidPx5',\n",
       "       'bidVlm1', 'bidVlm2', 'bidVlm3', 'bidVlm4', 'bidVlm5', 'askPx1',\n",
       "       'askPx2', 'askPx3', 'askPx4', 'askPx5', 'askVlm1', 'askV1m2', 'askVlm3',\n",
       "       'askV1m4', 'askV1m5', 'code', 'signal0', 'signal1', 'signal2',\n",
       "       'eventTime'],\n",
       "      dtype='object')"
      ]
     },
     "execution_count": 5,
     "metadata": {},
     "output_type": "execute_result"
    }
   ],
   "source": [
    "df_0220.columns"
   ]
  },
  {
   "cell_type": "code",
   "execution_count": 6,
   "metadata": {},
   "outputs": [
    {
     "data": {
      "text/plain": [
       "(288098, 26)"
      ]
     },
     "execution_count": 6,
     "metadata": {},
     "output_type": "execute_result"
    }
   ],
   "source": [
    "df_0220.shape"
   ]
  },
  {
   "cell_type": "code",
   "execution_count": 7,
   "metadata": {},
   "outputs": [
    {
     "name": "stdout",
     "output_type": "stream",
     "text": [
      "<class 'pandas.core.frame.DataFrame'>\n",
      "RangeIndex: 288098 entries, 0 to 288097\n",
      "Data columns (total 26 columns):\n",
      " #   Column      Non-Null Count   Dtype  \n",
      "---  ------      --------------   -----  \n",
      " 0   serverTime  288098 non-null  float64\n",
      " 1   bidPx1      288098 non-null  float64\n",
      " 2   bidPx2      288098 non-null  float64\n",
      " 3   bidPx3      288098 non-null  float64\n",
      " 4   bidPx4      288098 non-null  float64\n",
      " 5   bidPx5      288098 non-null  float64\n",
      " 6   bidVlm1     288098 non-null  float64\n",
      " 7   bidVlm2     288098 non-null  float64\n",
      " 8   bidVlm3     288098 non-null  float64\n",
      " 9   bidVlm4     288098 non-null  float64\n",
      " 10  bidVlm5     288098 non-null  float64\n",
      " 11  askPx1      288098 non-null  float64\n",
      " 12  askPx2      288098 non-null  float64\n",
      " 13  askPx3      288098 non-null  float64\n",
      " 14  askPx4      288098 non-null  float64\n",
      " 15  askPx5      288098 non-null  float64\n",
      " 16  askVlm1     288098 non-null  float64\n",
      " 17  askV1m2     288098 non-null  float64\n",
      " 18  askVlm3     288098 non-null  float64\n",
      " 19  askV1m4     288098 non-null  float64\n",
      " 20  askV1m5     288098 non-null  float64\n",
      " 21  code        288098 non-null  float64\n",
      " 22  signal0     288098 non-null  float64\n",
      " 23  signal1     288098 non-null  float64\n",
      " 24  signal2     288098 non-null  float64\n",
      " 25  eventTime   288098 non-null  float64\n",
      "dtypes: float64(26)\n",
      "memory usage: 57.1 MB\n"
     ]
    }
   ],
   "source": [
    "df_0220.info()"
   ]
  }
 ],
 "metadata": {
  "kernelspec": {
   "display_name": "stock-venv",
   "language": "python",
   "name": "python3"
  },
  "language_info": {
   "codemirror_mode": {
    "name": "ipython",
    "version": 3
   },
   "file_extension": ".py",
   "mimetype": "text/x-python",
   "name": "python",
   "nbconvert_exporter": "python",
   "pygments_lexer": "ipython3",
   "version": "3.7.5"
  }
 },
 "nbformat": 4,
 "nbformat_minor": 2
}
